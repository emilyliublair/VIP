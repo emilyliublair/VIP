{
 "cells": [
  {
   "cell_type": "code",
   "execution_count": 106,
   "metadata": {},
   "outputs": [],
   "source": [
    "from statistics import mean\n",
    "from tkinter import Y\n",
    "import pandas as pd\n",
    "import numpy as np\n",
    "from scipy import interpolate\n",
    "from scipy.interpolate import griddata\n",
    "import matplotlib.pyplot as plt\n",
    "from sklearn.datasets import make_blobs\n",
    "from sklearn.cluster import KMeans\n",
    "from sklearn.metrics import silhouette_score\n",
    "from sklearn.preprocessing import StandardScaler\n",
    "from scipy.stats import iqr"
   ]
  },
  {
   "cell_type": "code",
   "execution_count": 107,
   "metadata": {},
   "outputs": [],
   "source": [
    "data = pd.read_csv(\"Granite1.csv\")\n",
    "\n",
    "X = data[[\" X\", \" Y\", \" Hardness(GPa)\", \" Modulus\"]]\n",
    "tempdf = X.copy()"
   ]
  },
  {
   "cell_type": "code",
   "execution_count": 108,
   "metadata": {},
   "outputs": [],
   "source": [
    "#extract outliers using 1.5*iqr rule\n",
    "iqr_multiplier_hard = 1.5 * iqr(X[\" Hardness(GPa)\"])\n",
    "third_quar_hard = np.percentile(X[\" Hardness(GPa)\"], 75)\n",
    "first_quar_hard = np.percentile(X[\" Hardness(GPa)\"], 25)\n",
    "iqr_multiplier_mod = 1.5 * iqr(X[\" Modulus\"])\n",
    "third_quar_mod = np.percentile(X[\" Modulus\"], 75)\n",
    "first_quar_mod = np.percentile(X[\" Modulus\"], 25)\n",
    "\n",
    "outliers = pd.DataFrame(columns=[\"X\",\"Y\",\"Hardness\",\"Modulus\",\"Index\"])\n",
    "\n",
    "for x in range(len(X[\" Hardness(GPa)\"])):\n",
    "    if tempdf[\" Hardness(GPa)\"][x] > (iqr_multiplier_hard + third_quar_hard) or tempdf[\" Hardness(GPa)\"][x] < (first_quar_hard - iqr_multiplier_hard):\n",
    "        outliers.loc[len(outliers.index)] = [float(X[\" X\"][x]), float(X[\" Y\"][x]), float(X[\" Hardness(GPa)\"][x]), float(X[\" Modulus\"][x]),x]\n",
    "        tempdf.drop(index=x, inplace=True,axis=0)\n",
    "    else:\n",
    "        if tempdf[\" Modulus\"][x] > (iqr_multiplier_mod + third_quar_mod) or tempdf[\" Modulus\"][x] < (first_quar_mod - iqr_multiplier_mod):\n",
    "            tempdf.drop(index=x,inplace=True)\n",
    "            outliers.loc[len(outliers.index)] = [X[\" X\"][x], X[\" Y\"][x], X[\" Hardness(GPa)\"][x], X[\" Modulus\"][x], x]\n"
   ]
  },
  {
   "cell_type": "code",
   "execution_count": 109,
   "metadata": {},
   "outputs": [
    {
     "name": "stderr",
     "output_type": "stream",
     "text": [
      "/Library/Frameworks/Python.framework/Versions/3.10/lib/python3.10/site-packages/scipy/interpolate/_fitpack_impl.py:977: RuntimeWarning: No more knots can be added because the number of B-spline\n",
      "coefficients already exceeds the number of data points m.\n",
      "Probable causes: either s or m too small. (fp>s)\n",
      "\tkx,ky=1,1 nx,ny=12,12 m=93 fp=0.889479 s=0.000000\n",
      "  warnings.warn(RuntimeWarning(_iermess2[ierm][0] + _mess))\n",
      "/Library/Frameworks/Python.framework/Versions/3.10/lib/python3.10/site-packages/scipy/interpolate/_fitpack_impl.py:977: RuntimeWarning: No more knots can be added because the number of B-spline\n",
      "coefficients already exceeds the number of data points m.\n",
      "Probable causes: either s or m too small. (fp>s)\n",
      "\tkx,ky=1,1 nx,ny=12,12 m=93 fp=3019.455682 s=0.000000\n",
      "  warnings.warn(RuntimeWarning(_iermess2[ierm][0] + _mess))\n"
     ]
    }
   ],
   "source": [
    "#linear interpolation\n",
    "hard_interp=interpolate.interp2d(tempdf[\" X\"], tempdf[\" Y\"], tempdf[\" Hardness(GPa)\"], kind=\"linear\")\n",
    "mod_interp=interpolate.interp2d(tempdf[\" X\"], tempdf[\" Y\"], tempdf[\" Modulus\"], kind=\"linear\")\n",
    "\n",
    "for i in range(len(outliers)):\n",
    "    if outliers[\"Hardness\"][i] > (iqr_multiplier_hard + third_quar_hard) or outliers[\"Hardness\"][i] < (first_quar_hard - iqr_multiplier_hard):\n",
    "        hard_new = hard_interp(outliers[\"X\"][i],outliers[\"Y\"][i])\n",
    "        tempdf.loc[outliers[\"Index\"][float(i)]] = [outliers[\"X\"][i], outliers[\"Y\"][i], hard_new[0], outliers[\"Modulus\"][i]]\n",
    "    if outliers[\"Modulus\"][i] > (iqr_multiplier_mod + third_quar_mod) or outliers[\"Modulus\"][i] < (first_quar_mod - iqr_multiplier_mod):\n",
    "        mod_new = mod_interp(outliers[\"X\"][i], outliers[\"Y\"][i])\n",
    "        tempdf.loc[outliers[\"Index\"][float(i)]] = [outliers[\"X\"][i], outliers[\"Y\"][i], outliers[\"Hardness\"][i], mod_new[0]]\n"
   ]
  },
  {
   "cell_type": "code",
   "execution_count": 110,
   "metadata": {},
   "outputs": [],
   "source": [
    "#map data to range of [0,1]\n",
    "max_hard = max(tempdf[\" Hardness(GPa)\"])\n",
    "min_hard = min(tempdf[\" Hardness(GPa)\"])\n",
    "max_mod =  max(tempdf[\" Modulus\"])\n",
    "min_mod = min(tempdf[\" Modulus\"])\n",
    "max_x = max(tempdf[\" X\"])\n",
    "min_x = min(tempdf[\" X\"])\n",
    "max_y = max(tempdf[\" Y\"])\n",
    "min_y = min(tempdf[\" Y\"])\n",
    "\n",
    "for x in range(len(tempdf)):\n",
    "    tempdf[\" Hardness(GPa)\"][x] = (tempdf[\" Hardness(GPa)\"][x]-min_hard)/(max_hard-min_hard)\n",
    "    tempdf[\" Modulus\"][x] = (tempdf[\" Modulus\"][x]-min_mod)/(max_mod-min_mod)\n",
    "    if round((tempdf[\" Y\"][x]-min_y)/(max_y-min_y), 2)==.99:\n",
    "        tempdf[\" Y\"][x] = 1\n",
    "    else:\n",
    "        tempdf[\" Y\"][x] = round((tempdf[\" Y\"][x]-min_y)/(max_y-min_y), 2)\n",
    "    tempdf[\" X\"][x] = round((tempdf[\" X\"][x]-min_x)/(max_x-min_x), 2)\n",
    "    \n"
   ]
  },
  {
   "cell_type": "code",
   "execution_count": 111,
   "metadata": {},
   "outputs": [
    {
     "name": "stderr",
     "output_type": "stream",
     "text": [
      "/Library/Frameworks/Python.framework/Versions/3.10/lib/python3.10/site-packages/scipy/interpolate/_fitpack_impl.py:977: RuntimeWarning: No more knots can be added because the number of B-spline\n",
      "coefficients already exceeds the number of data points m.\n",
      "Probable causes: either s or m too small. (fp>s)\n",
      "\tkx,ky=1,1 nx,ny=13,12 m=102 fp=0.005242 s=0.000000\n",
      "  warnings.warn(RuntimeWarning(_iermess2[ierm][0] + _mess))\n",
      "/Library/Frameworks/Python.framework/Versions/3.10/lib/python3.10/site-packages/scipy/interpolate/_fitpack_impl.py:977: RuntimeWarning: No more knots can be added because the number of B-spline\n",
      "coefficients already exceeds the number of data points m.\n",
      "Probable causes: either s or m too small. (fp>s)\n",
      "\tkx,ky=1,1 nx,ny=13,12 m=102 fp=0.000343 s=0.000000\n",
      "  warnings.warn(RuntimeWarning(_iermess2[ierm][0] + _mess))\n"
     ]
    }
   ],
   "source": [
    "#add data points\n",
    "new_temp = tempdf.copy()\n",
    "\n",
    "hard_interp_norm=interpolate.interp2d(tempdf[\" X\"], tempdf[\" Y\"], tempdf[\" Hardness(GPa)\"], kind=\"linear\")\n",
    "mod_interp_norm=interpolate.interp2d(tempdf[\" X\"], tempdf[\" Y\"], tempdf[\" Modulus\"], kind=\"linear\")\n",
    "\n",
    "test = hard_interp_norm(0.04, 0.07)\n",
    "\n",
    "new = 21\n",
    "for i in range(0, new):\n",
    "    for j in range(0, new):\n",
    "        hard_new_norm = hard_interp_norm(i/(new-1), j/(new-1))\n",
    "        mod_new_norm = mod_interp_norm(i/(new-1), j/(new-1))\n",
    "        new_temp.loc[len(new_temp.index)] = [i/(new-1), j/(new-1), hard_new_norm[0], mod_new_norm[0]]\n"
   ]
  },
  {
   "cell_type": "code",
   "execution_count": 112,
   "metadata": {},
   "outputs": [
    {
     "name": "stdout",
     "output_type": "stream",
     "text": [
      "<bound method NDFrame.head of           X     Y   Hardness(GPa)   Modulus  Cluster\n",
      "0.0    0.00  1.00        0.002015  0.047153        2\n",
      "1.0    0.05  1.00        0.009253  0.085988        2\n",
      "2.0    0.10  1.00        0.001673  0.000000        2\n",
      "3.0    0.20  1.00        0.007041  0.073537        2\n",
      "5.0    0.40  1.00        0.010996  0.085417        2\n",
      "...     ...   ...             ...       ...      ...\n",
      "538.0  1.00  0.80        0.044313  0.230122        0\n",
      "539.0  1.00  0.85        0.046499  0.155128        0\n",
      "540.0  1.00  0.90        0.001647  0.080133        0\n",
      "541.0  1.00  0.95        0.020340  0.180649        0\n",
      "542.0  1.00  1.00        0.039034  0.282911        0\n",
      "\n",
      "[543 rows x 5 columns]>\n"
     ]
    },
    {
     "data": {
      "image/png": "[encoded data removed]",
      "text/plain": [
       "<Figure size 640x480 with 1 Axes>"
      ]
     },
     "metadata": {},
     "output_type": "display_data"
    }
   ],
   "source": [
    "#kmeans\n",
    "km = KMeans(n_clusters = 4, init=\"k-means++\",max_iter=300,n_init=10,random_state=0)\n",
    "km.fit(new_temp)\n",
    "clusters = km.predict(new_temp)\n",
    "new_temp[\"Cluster\"]=clusters\n",
    "print(new_temp.head)\n",
    "\n",
    "color=[\"blue\", \"green\", \"red\", \"black\"]\n",
    "\n",
    "for i in range(len(new_temp)):\n",
    "    plt.scatter(new_temp[\" X\"][i], new_temp[\" Y\"][i], c = color[new_temp[\"Cluster\"][i]])\n",
    "plt.xlabel(\"X\")\n",
    "plt.ylabel(\"Y\")\n",
    "plt.show()"
   ]
  }
 ],
 "metadata": {
  "kernelspec": {
   "display_name": "Python 3.10.7 64-bit",
   "language": "python",
   "name": "python3"
  },
  "language_info": {
   "codemirror_mode": {
    "name": "ipython",
    "version": 3
   },
   "file_extension": ".py",
   "mimetype": "text/x-python",
   "name": "python",
   "nbconvert_exporter": "python",
   "pygments_lexer": "ipython3",
   "version": "3.10.7"
  },
  "orig_nbformat": 4,
  "vscode": {
   "interpreter": {
    "hash": "aee8b7b246df8f9039afb4144a1f6fd8d2ca17a180786b69acc140d282b71a49"
   }
  }
 },
 "nbformat": 4,
 "nbformat_minor": 2
}
