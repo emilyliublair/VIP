{
 "cells": [
  {
   "cell_type": "code",
   "execution_count": 254,
   "metadata": {},
   "outputs": [],
   "source": [
    "from statistics import mean\n",
    "from tkinter import Y\n",
    "import pandas as pd\n",
    "import numpy as np\n",
    "from scipy import interpolate\n",
    "from scipy.interpolate import griddata\n",
    "import matplotlib.pyplot as plt\n",
    "from sklearn.datasets import make_blobs\n",
    "from sklearn.cluster import KMeans\n",
    "from sklearn.metrics import silhouette_score\n",
    "from sklearn.preprocessing import StandardScaler\n",
    "from scipy.stats import iqr"
   ]
  },
  {
   "cell_type": "code",
   "execution_count": 255,
   "metadata": {},
   "outputs": [
    {
     "name": "stdout",
     "output_type": "stream",
     "text": [
      "            X         Y   Hardness(GPa)      Modulus\n",
      "0   -4.770635  0.002520        0.441080    23.447915\n",
      "1   -4.271583  0.002520        1.569489    37.284102\n",
      "2   -3.770873  0.002520        0.387642     6.648113\n",
      "3   -2.771181  0.002699        1.224675    32.848149\n",
      "4   -1.771469  0.002709      156.045745  1888.860122\n",
      "..        ...       ...             ...          ...\n",
      "97   1.228045 -8.997162       25.739224   211.007222\n",
      "98   2.227500 -8.997162       42.664982   681.374523\n",
      "99   3.227748 -8.997162       63.865255   362.929557\n",
      "100  4.227718 -8.997162       26.693745   185.871818\n",
      "101  5.228601 -8.997162       17.025402   109.235284\n",
      "\n",
      "[102 rows x 4 columns]\n"
     ]
    }
   ],
   "source": [
    "data = pd.read_csv(\"Granite1.csv\")\n",
    "\n",
    "X = data[[\" X\", \" Y\", \" Hardness(GPa)\", \" Modulus\"]]\n",
    "tempdf = X.copy()\n",
    "print(tempdf)"
   ]
  },
  {
   "cell_type": "markdown",
   "metadata": {},
   "source": [
    "Extracting Outliers"
   ]
  },
  {
   "cell_type": "code",
   "execution_count": 256,
   "metadata": {},
   "outputs": [
    {
     "name": "stdout",
     "output_type": "stream",
     "text": [
      "            X         Y   Hardness(GPa)     Modulus\n",
      "0   -4.770635  0.002520        0.441080   23.447915\n",
      "1   -4.271583  0.002520        1.569489   37.284102\n",
      "2   -3.770873  0.002520        0.387642    6.648113\n",
      "3   -2.771181  0.002699        1.224675   32.848149\n",
      "5   -0.771161  0.002709        1.841265   37.080645\n",
      "..        ...       ...             ...         ...\n",
      "95  -0.772362 -8.997162        1.558437   36.868433\n",
      "96   0.228115 -8.997162        3.924556   50.236115\n",
      "97   1.228045 -8.997162       25.739224  211.007222\n",
      "100  4.227718 -8.997162       26.693745  185.871818\n",
      "101  5.228601 -8.997162       17.025402  109.235284\n",
      "\n",
      "[93 rows x 4 columns]\n"
     ]
    }
   ],
   "source": [
    "iqr_multiplier_hard = 1.5 * iqr(X[\" Hardness(GPa)\"])\n",
    "third_quar_hard = np.percentile(X[\" Hardness(GPa)\"], 75)\n",
    "first_quar_hard = np.percentile(X[\" Hardness(GPa)\"], 25)\n",
    "iqr_multiplier_mod = 1.5 * iqr(X[\" Modulus\"])\n",
    "third_quar_mod = np.percentile(X[\" Modulus\"], 75)\n",
    "first_quar_mod = np.percentile(X[\" Modulus\"], 25)\n",
    "\n",
    "outliers = pd.DataFrame(columns=[\"X\",\"Y\",\"Hardness\",\"Modulus\",\"Index\"])\n",
    "\n",
    "for x in range(len(X[\" Hardness(GPa)\"])):\n",
    "    if tempdf[\" Hardness(GPa)\"][x] > (iqr_multiplier_hard + third_quar_hard) or tempdf[\" Hardness(GPa)\"][x] < (first_quar_hard - iqr_multiplier_hard):\n",
    "        outliers.loc[len(outliers.index)] = [float(X[\" X\"][x]), float(X[\" Y\"][x]), float(X[\" Hardness(GPa)\"][x]), float(X[\" Modulus\"][x]),x]\n",
    "        tempdf.drop(index=x, inplace=True,axis=0)\n",
    "    else:\n",
    "        if tempdf[\" Modulus\"][x] > (iqr_multiplier_mod + third_quar_mod) or tempdf[\" Modulus\"][x] < (first_quar_mod - iqr_multiplier_mod):\n",
    "            tempdf.drop(index=x,inplace=True)\n",
    "            outliers.loc[len(outliers.index)] = [X[\" X\"][x], X[\" Y\"][x], X[\" Hardness(GPa)\"][x], X[\" Modulus\"][x], x]\n",
    "\n",
    "print(tempdf)"
   ]
  },
  {
   "cell_type": "markdown",
   "metadata": {},
   "source": [
    "Interpolate Outliers"
   ]
  },
  {
   "cell_type": "code",
   "execution_count": 257,
   "metadata": {},
   "outputs": [
    {
     "name": "stdout",
     "output_type": "stream",
     "text": [
      "             X         Y       Hardness(GPa)             Modulus\n",
      "0.0  -4.770635  0.002520             0.44108           23.447915\n",
      "1.0  -4.271583  0.002520            1.569489           37.284102\n",
      "2.0  -3.770873  0.002520            0.387642            6.648113\n",
      "3.0  -2.771181  0.002699            1.224675           32.848149\n",
      "5.0  -0.771161  0.002709            1.841265           37.080645\n",
      "...        ...       ...                 ...                 ...\n",
      "74.0 -1.771588 -6.996855   7.602633237804616  187.81701844488663\n",
      "82.0 -3.770764 -7.997073  39.317826574992836          292.182908\n",
      "90.0  4.227797 -7.997093  1.2663065944321295  39.298832853134776\n",
      "98.0  2.227500 -8.997162           42.664982   202.6324120797797\n",
      "99.0  3.227748 -8.997162  34.678254357339085          362.929557\n",
      "\n",
      "[102 rows x 4 columns]\n"
     ]
    }
   ],
   "source": [
    "#linear interpolation\n",
    "for i in range(len(outliers)):\n",
    "    hard_new = outliers[\"Hardness\"][i]\n",
    "    mod_new = outliers[\"Modulus\"][i]\n",
    "    if outliers[\"Hardness\"][i] > (iqr_multiplier_hard + third_quar_hard) or outliers[\"Hardness\"][i] < (first_quar_hard - iqr_multiplier_hard):\n",
    "        o_l = tempdf.loc[round(tempdf[\" Y\"], 2) == round(outliers[\"Y\"][i], 2)]\n",
    "        hard_interp = interpolate.interp1d(o_l[\" X\"], o_l[\" Hardness(GPa)\"], kind=\"linear\", fill_value=\"extrapolate\")\n",
    "        hard_new = hard_interp(outliers[\"X\"][i])\n",
    "    if outliers[\"Modulus\"][i] > (iqr_multiplier_mod + third_quar_mod) or outliers[\"Modulus\"][i] < (first_quar_mod - iqr_multiplier_mod):\n",
    "        o_l = tempdf.loc[round(tempdf[\" Y\"], 2) == round(outliers[\"Y\"][i], 2)]\n",
    "        mod_interp = interpolate.interp1d(o_l[\" X\"], o_l[\" Modulus\"], kind=\"linear\", fill_value=\"extrapolate\")\n",
    "        mod_new = mod_interp(outliers[\"X\"][i])\n",
    "    tempdf.loc[outliers[\"Index\"][i]] = [outliers[\"X\"][i], outliers[\"Y\"][i], hard_new, mod_new]\n",
    "\n",
    "print(tempdf)"
   ]
  },
  {
   "cell_type": "markdown",
   "metadata": {},
   "source": [
    "Data Normalization"
   ]
  },
  {
   "cell_type": "code",
   "execution_count": 258,
   "metadata": {},
   "outputs": [
    {
     "name": "stdout",
     "output_type": "stream",
     "text": [
      "         X     Y  Hardness(GPa)   Modulus\n",
      "0.0   0.00  1.00       0.176731  0.304204\n",
      "1.0   0.05  1.00       0.195486  0.332562\n",
      "2.0   0.10  1.00       0.175843  0.269771\n",
      "3.0   0.20  1.00       0.189755   0.32347\n",
      "5.0   0.40  1.00       0.200003  0.332145\n",
      "...    ...   ...            ...       ...\n",
      "74.0  0.30  0.22       0.295758  0.641092\n",
      "82.0  0.10  0.11        0.82287  0.854999\n",
      "90.0  0.90  0.11       0.190447  0.336692\n",
      "98.0  0.70  0.00       0.878501  0.671457\n",
      "99.0  0.80  0.00        0.74576       1.0\n",
      "\n",
      "[102 rows x 4 columns]\n"
     ]
    },
    {
     "name": "stderr",
     "output_type": "stream",
     "text": [
      "/var/folders/9g/pn4nc72540zbw3dkklz1ddl00000gn/T/ipykernel_93410/3427144755.py:12: SettingWithCopyWarning: \n",
      "A value is trying to be set on a copy of a slice from a DataFrame\n",
      "\n",
      "See the caveats in the documentation: https://pandas.pydata.org/pandas-docs/stable/user_guide/indexing.html#returning-a-view-versus-a-copy\n",
      "  tempdf[\" Hardness(GPa)\"][x] = (tempdf[\" Hardness(GPa)\"][x]-min_hard)/(max_hard-min_hard)\n",
      "/var/folders/9g/pn4nc72540zbw3dkklz1ddl00000gn/T/ipykernel_93410/3427144755.py:13: SettingWithCopyWarning: \n",
      "A value is trying to be set on a copy of a slice from a DataFrame\n",
      "\n",
      "See the caveats in the documentation: https://pandas.pydata.org/pandas-docs/stable/user_guide/indexing.html#returning-a-view-versus-a-copy\n",
      "  tempdf[\" Modulus\"][x] = (tempdf[\" Modulus\"][x]-min_mod)/(max_mod-min_mod)\n",
      "/var/folders/9g/pn4nc72540zbw3dkklz1ddl00000gn/T/ipykernel_93410/3427144755.py:17: SettingWithCopyWarning: \n",
      "A value is trying to be set on a copy of a slice from a DataFrame\n",
      "\n",
      "See the caveats in the documentation: https://pandas.pydata.org/pandas-docs/stable/user_guide/indexing.html#returning-a-view-versus-a-copy\n",
      "  tempdf[\" Y\"][x] = round((tempdf[\" Y\"][x]-min_y)/(max_y-min_y), 2)\n",
      "/var/folders/9g/pn4nc72540zbw3dkklz1ddl00000gn/T/ipykernel_93410/3427144755.py:18: SettingWithCopyWarning: \n",
      "A value is trying to be set on a copy of a slice from a DataFrame\n",
      "\n",
      "See the caveats in the documentation: https://pandas.pydata.org/pandas-docs/stable/user_guide/indexing.html#returning-a-view-versus-a-copy\n",
      "  tempdf[\" X\"][x] = round((tempdf[\" X\"][x]-min_x)/(max_x-min_x), 2)\n"
     ]
    }
   ],
   "source": [
    "max_hard = max(tempdf[\" Hardness(GPa)\"])\n",
    "min_hard = min(tempdf[\" Hardness(GPa)\"])\n",
    "max_mod =  max(tempdf[\" Modulus\"])\n",
    "min_mod = min(tempdf[\" Modulus\"])\n",
    "max_x = max(tempdf[\" X\"])\n",
    "min_x = min(tempdf[\" X\"])\n",
    "max_y = max(tempdf[\" Y\"])\n",
    "min_y = min(tempdf[\" Y\"])\n",
    "\n",
    "for x in range(len(tempdf)):\n",
    "    tempdf[\" Hardness(GPa)\"][x] = (tempdf[\" Hardness(GPa)\"][x]-min_hard)/(max_hard-min_hard)\n",
    "    tempdf[\" Modulus\"][x] = (tempdf[\" Modulus\"][x]-min_mod)/(max_mod-min_mod)\n",
    "    if round((tempdf[\" Y\"][x]-min_y)/(max_y-min_y), 2)==.99:\n",
    "        tempdf[\" Y\"][x] = 1\n",
    "    else:\n",
    "        tempdf[\" Y\"][x] = round((tempdf[\" Y\"][x]-min_y)/(max_y-min_y), 2)\n",
    "    tempdf[\" X\"][x] = round((tempdf[\" X\"][x]-min_x)/(max_x-min_x), 2)\n",
    "\n",
    "print(tempdf)"
   ]
  },
  {
   "cell_type": "markdown",
   "metadata": {},
   "source": [
    "Add Data Points"
   ]
  },
  {
   "cell_type": "code",
   "execution_count": 259,
   "metadata": {},
   "outputs": [],
   "source": [
    "#add data points\n",
    "tempdf = tempdf.drop([0,1])\n",
    "\n",
    "x = np.linspace(.1, 1, 10)\n",
    "y = np.linspace(0, 1, 10)\n",
    "xx,yy = np.meshgrid(x,y)\n",
    "z_h = tempdf[\" Hardness(GPa)\"].to_numpy().reshape([10,10])\n",
    "z_m = tempdf[\" Modulus\"].to_numpy().reshape([10,10])\n",
    "\n",
    "hard_interp_norm=interpolate.interp2d(x, y, z_h, kind=\"linear\")\n",
    "mod_interp_norm=interpolate.interp2d(x, y, z_m, kind=\"linear\")"
   ]
  },
  {
   "cell_type": "code",
   "execution_count": 260,
   "metadata": {},
   "outputs": [],
   "source": [
    "new_temp = pd.DataFrame()\n",
    "pts = 20\n",
    "feature_x = np.linspace(.1, 1, pts)\n",
    "feature_y = np.linspace(0, 1, pts)\n",
    "\n",
    "\n",
    "new_temp[\"X\"] = list(feature_x) * pts\n",
    "arr = []\n",
    "for i in list(feature_y):\n",
    "    arr.append([i]*pts)\n",
    "new_temp[\"Y\"] = np.array(arr).reshape([pts*pts, 1])\n",
    "\n",
    "feature_hard = hard_interp_norm(feature_x, feature_y).reshape([pts*pts,1])\n",
    "feature_mod = mod_interp_norm(feature_x, feature_y).reshape([pts*pts,1])\n",
    "feature_hard = [i[0] for i in feature_hard]\n",
    "feature_mod = [i[0] for i in feature_mod]\n",
    "\n",
    "new_temp[\"Hardness\"] = feature_hard\n",
    "new_temp[\"Modulus\"] = feature_mod"
   ]
  },
  {
   "cell_type": "markdown",
   "metadata": {},
   "source": [
    "K-Means Clustering"
   ]
  },
  {
   "cell_type": "code",
   "execution_count": 261,
   "metadata": {},
   "outputs": [
    {
     "name": "stdout",
     "output_type": "stream",
     "text": [
      "<bound method NDFrame.head of             X    Y  Hardness   Modulus  Cluster\n",
      "0    0.100000  0.0  0.175843  0.269771        3\n",
      "1    0.147368  0.0  0.182433  0.295208        3\n",
      "2    0.194737  0.0  0.189023  0.320644        3\n",
      "3    0.242105  0.0  0.194070  0.327123        3\n",
      "4    0.289474  0.0  0.198924  0.331232        3\n",
      "..        ...  ...       ...       ...      ...\n",
      "395  0.810526  1.0  0.262873  0.371930        2\n",
      "396  0.857895  1.0  0.588794  0.530503        2\n",
      "397  0.905263  1.0  0.871514  0.688749        2\n",
      "398  0.952632  1.0  0.808637  0.844375        2\n",
      "399  1.000000  1.0  0.745760  1.000000        2\n",
      "\n",
      "[400 rows x 5 columns]>\n"
     ]
    },
    {
     "data": {
      "image/png": "[encoded data removed]",
      "text/plain": [
       "<Figure size 640x480 with 1 Axes>"
      ]
     },
     "metadata": {},
     "output_type": "display_data"
    }
   ],
   "source": [
    "#kmeans\n",
    "km = KMeans(n_clusters = 4, init=\"k-means++\",max_iter=300,n_init=10,random_state=0)\n",
    "km.fit(new_temp)\n",
    "clusters = km.predict(new_temp)\n",
    "new_temp[\"Cluster\"]=clusters\n",
    "print(new_temp.head)\n",
    "\n",
    "color=[\"blue\", \"green\", \"red\", \"black\"]\n",
    "\n",
    "for i in range(len(new_temp)):\n",
    "    plt.scatter(new_temp[\"X\"][i], new_temp[\"Y\"][i], c = color[new_temp[\"Cluster\"][i]])\n",
    "plt.xlabel(\"X\")\n",
    "plt.ylabel(\"Y\")\n",
    "plt.show()"
   ]
  },
  {
   "cell_type": "markdown",
   "metadata": {},
   "source": [
    "Contour Map"
   ]
  },
  {
   "cell_type": "code",
   "execution_count": 262,
   "metadata": {},
   "outputs": [
    {
     "data": {
      "image/png": "[encoded data removed]",
      "text/plain": [
       "<Figure size 640x480 with 1 Axes>"
      ]
     },
     "metadata": {},
     "output_type": "display_data"
    }
   ],
   "source": [
    "z_cluster = new_temp[\"Cluster\"].to_numpy().reshape([pts,pts])\n",
    "\n",
    "fig,ax = plt.subplots(1,1)\n",
    "ax.contourf(feature_x, feature_y, z_cluster)\n",
    "plt.show()"
   ]
  }
 ],
 "metadata": {
  "kernelspec": {
   "display_name": "Python 3.10.7 64-bit",
   "language": "python",
   "name": "python3"
  },
  "language_info": {
   "codemirror_mode": {
    "name": "ipython",
    "version": 3
   },
   "file_extension": ".py",
   "mimetype": "text/x-python",
   "name": "python",
   "nbconvert_exporter": "python",
   "pygments_lexer": "ipython3",
   "version": "3.10.7"
  },
  "orig_nbformat": 4,
  "vscode": {
   "interpreter": {
    "hash": "aee8b7b246df8f9039afb4144a1f6fd8d2ca17a180786b69acc140d282b71a49"
   }
  }
 },
 "nbformat": 4,
 "nbformat_minor": 2
}
